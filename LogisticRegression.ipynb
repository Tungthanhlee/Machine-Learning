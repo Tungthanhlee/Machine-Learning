{
  "nbformat": 4,
  "nbformat_minor": 0,
  "metadata": {
    "colab": {
      "name": "LogisticRegression",
      "version": "0.3.2",
      "provenance": [],
      "collapsed_sections": [],
      "include_colab_link": true
    },
    "kernelspec": {
      "name": "python3",
      "display_name": "Python 3"
    }
  },
  "cells": [
    {
      "cell_type": "markdown",
      "metadata": {
        "id": "view-in-github",
        "colab_type": "text"
      },
      "source": [
        "<a href=\"https://colab.research.google.com/github/Tungthanhlee/Machine-Learning/blob/master/LogisticRegression.ipynb\" target=\"_parent\"><img src=\"https://colab.research.google.com/assets/colab-badge.svg\" alt=\"Open In Colab\"/></a>"
      ]
    },
    {
      "metadata": {
        "id": "JnneodHICBmw",
        "colab_type": "code",
        "outputId": "fdd5cf86-04c5-4546-bd50-d46ce0e49d3e",
        "colab": {
          "base_uri": "https://localhost:8080/",
          "height": 87
        }
      },
      "cell_type": "code",
      "source": [
        "# Adapted from machineleanringcoban.com\n",
        "# URL: https://machinelearningcoban.com/2017/01/27/logisticregression/\n",
        "\n",
        "import numpy as np \n",
        "\n",
        "np.random.seed(1)                          # for fixing random values\n",
        "\n",
        "# randomly generate data  \n",
        "\n",
        "m = 5 # number of training examples \n",
        "n = 2 # data dimension \n",
        "k = 3 # number of classes \n",
        "\n",
        "X = np.random.randn(n, m)\n",
        "y = np.random.randint(0, 3, (m,))\n",
        "\n",
        "# Append a row of all ones to matrix X\n",
        "\n",
        "X = np.concatenate((np.ones((1, m)), X), axis=0)\n",
        "print(X)\n",
        "print(y)\n"
      ],
      "execution_count": 0,
      "outputs": [
        {
          "output_type": "stream",
          "text": [
            "[[ 1.          1.          1.          1.          1.        ]\n",
            " [ 1.62434536 -0.61175641 -0.52817175 -1.07296862  0.86540763]\n",
            " [-2.3015387   1.74481176 -0.7612069   0.3190391  -0.24937038]]\n",
            "[1 2 2 0 1]\n"
          ],
          "name": "stdout"
        }
      ]
    },
    {
      "metadata": {
        "id": "p0lAEy7TJKvm",
        "colab_type": "code",
        "outputId": "b9111fc7-ec10-472e-c4bb-cee1b947e767",
        "colab": {
          "base_uri": "https://localhost:8080/",
          "height": 70
        }
      },
      "cell_type": "code",
      "source": [
        "# Function to convert label from categorical variables to one-hot vectors\n",
        "def one_hot(y, k):\n",
        "  m = len(y)\n",
        "  Y = np.zeros((k, m), dtype='int64')\n",
        "  for i in range(m):\n",
        "    Y[y[i], i] = 1\n",
        "  return Y\n",
        "\n",
        "Y = one_hot(y, k) \n",
        "print(Y)"
      ],
      "execution_count": 0,
      "outputs": [
        {
          "output_type": "stream",
          "text": [
            "[[0 0 0 1 0]\n",
            " [1 0 0 0 1]\n",
            " [0 1 1 0 0]]\n"
          ],
          "name": "stdout"
        }
      ]
    },
    {
      "metadata": {
        "id": "5IDb7njwHd5K",
        "colab_type": "code",
        "colab": {}
      },
      "cell_type": "code",
      "source": [
        "# Define the original softmax function\n",
        "def softmax(Z):\n",
        "  \"\"\"\n",
        "  Compute softmax values for each column vector in matrix Z\n",
        "  \"\"\"\n",
        "  e_Z = np.exp(Z)\n",
        "  return e_Z / e_Z.sum(axis = 0) \n"
      ],
      "execution_count": 0,
      "outputs": []
    },
    {
      "metadata": {
        "id": "9eJzqUFN1DZO",
        "colab_type": "code",
        "colab": {}
      },
      "cell_type": "code",
      "source": [
        "# Define the stable version of softmax to avoid overflow of exponentials\n",
        "\n",
        "def softmax_stable(Z):\n",
        "  \"\"\"\n",
        "  Compute softmax values for each column vector in matrix Z\n",
        "  \"\"\"\n",
        "  # define a constant for each column of Z\n",
        "  c = np.max(Z, axis = 0)\n",
        "  e_Z = np.exp(Z - c)\n",
        "  \n",
        "  return e_Z / e_Z.sum(axis = 0)\n",
        "  "
      ],
      "execution_count": 0,
      "outputs": []
    },
    {
      "metadata": {
        "id": "zVJPg3APGdwK",
        "colab_type": "code",
        "outputId": "bfb76dc2-1274-44c7-a5fe-4d8d9b94ab85",
        "colab": {
          "base_uri": "https://localhost:8080/",
          "height": 87
        }
      },
      "cell_type": "code",
      "source": [
        "# cross-entropy loss function  \n",
        "def cost(X, Y, THETA):\n",
        "    A = softmax_stable(THETA.T.dot(X))\n",
        "    return -np.sum(Y*np.log(A))\n",
        "\n",
        "  \n",
        "# initialize the parameter matrix\n",
        "THETA_init = np.random.randn(n+1, k)\n",
        "\n",
        "print(THETA_init)\n",
        "\n",
        "\n",
        "#==================================================\n",
        "# Check the gradient\n",
        "#==================================================\n",
        "\n",
        "# compute gradient\n",
        "def grad(X, Y, THETA):\n",
        "    A = softmax_stable((THETA.T.dot(X)))\n",
        "    E = A - Y\n",
        "    return X.dot(E.T)\n",
        "\n",
        "  \n",
        "# numerical gradient for checking the above computation  \n",
        "def numerical_grad(X, Y, THETA, cost):\n",
        "    eps = 1e-6\n",
        "    g = np.zeros_like(THETA)\n",
        "    for i in range(THETA.shape[0]):\n",
        "        for j in range(THETA.shape[1]):\n",
        "            THETA_p = THETA.copy()\n",
        "            THETA_n = THETA.copy()\n",
        "            THETA_p[i, j] += eps \n",
        "            THETA_n[i, j] -= eps\n",
        "            g[i,j] = (cost(X, Y, THETA_p) - cost(X, Y, THETA_n))/(2*eps)\n",
        "    return g \n",
        "\n",
        "g1 = grad(X, Y, THETA_init)\n",
        "g2 = numerical_grad(X, Y, THETA_init, cost)\n",
        "\n",
        "print(np.linalg.norm(g1 - g2))"
      ],
      "execution_count": 0,
      "outputs": [
        {
          "output_type": "stream",
          "text": [
            "[[ 0.67723401 -0.10687843  0.72527406]\n",
            " [ 0.93488915  1.11829698  0.05561319]\n",
            " [ 0.37665664  0.37613502 -0.16419077]]\n",
            "1.0197353419044338e-09\n"
          ],
          "name": "stdout"
        }
      ]
    },
    {
      "metadata": {
        "id": "pz99U5HPlm9D",
        "colab_type": "code",
        "outputId": "dbc87dbf-e856-47cb-c894-e51d711194dc",
        "colab": {
          "base_uri": "https://localhost:8080/",
          "height": 70
        }
      },
      "cell_type": "code",
      "source": [
        "# Implement softmax regression with gradient descent\n",
        "def softmax_regression_gd(X, y, THETA_init, eta, tol = 1e-4, max_iter = 10000):\n",
        "    THETA = [THETA_init]\n",
        "    k = THETA_init.shape[1] # number of classes\n",
        "    Y = one_hot(y, k)\n",
        "    it = 0\n",
        "    m = X.shape[1]          # number of training examples\n",
        "    n = X.shape[0]          # number of features\n",
        "    \n",
        "    count = 0\n",
        "    check_after = 20\n",
        "    while count < max_iter:\n",
        "        A = softmax_stable(np.dot(THETA[-1].T, X))\n",
        "        THETA_new = THETA[-1] + eta*X.dot((Y - A).T) / m\n",
        "        count += 1\n",
        "        # stopping criteria\n",
        "        if count%check_after == 0:                \n",
        "            if np.linalg.norm(THETA_new - THETA[-check_after]) < tol:\n",
        "                return THETA\n",
        "        THETA.append(THETA_new)\n",
        "    return THETA\n",
        "\n",
        "eta = .05 # learning rate\n",
        "THETA_init = np.random.randn(n+1, k) # random initialization\n",
        "\n",
        "# run softmax\n",
        "THETA = softmax_regression_gd(X, y, THETA_init, eta)\n",
        "print(THETA[-1])"
      ],
      "execution_count": 0,
      "outputs": [
        {
          "output_type": "stream",
          "text": [
            "[[-4.28535129  2.54783992  4.29146105]\n",
            " [-8.9614071   7.76146908  1.41251245]\n",
            " [-0.4464203  -0.61740531  0.05785148]]\n"
          ],
          "name": "stdout"
        }
      ]
    },
    {
      "metadata": {
        "id": "NR4onzmMW5hV",
        "colab_type": "code",
        "outputId": "ae92b598-5395-40f1-fde8-fec9dbcf8bb9",
        "colab": {
          "base_uri": "https://localhost:8080/",
          "height": 70
        }
      },
      "cell_type": "code",
      "source": [
        "# Implement softmax regression with stochastic gradient descent (batch size = 1)\n",
        "def softmax_regression_sgd(X, y, THETA_init, eta, tol = 1e-4, max_iter = 10000):\n",
        "    THETA = [THETA_init]\n",
        "    k = THETA_init.shape[1] # number of classes\n",
        "    Y = one_hot(y, k)\n",
        "    it = 0\n",
        "    m = X.shape[1]          # number of training examples\n",
        "    n = X.shape[0]          # number of features\n",
        "    \n",
        "    count = 0\n",
        "    check_after = 20\n",
        "    while count < max_iter:\n",
        "        # shuffle the data \n",
        "        shuffled_id = np.random.permutation(m)\n",
        "        for i in shuffled_id:\n",
        "            xi = X[:, i].reshape(n, 1)\n",
        "            yi = Y[:, i].reshape(k, 1)\n",
        "            ai = softmax_stable(np.dot(THETA[-1].T, xi))\n",
        "            THETA_new = THETA[-1] + eta*xi.dot((yi - ai).T)\n",
        "            count += 1\n",
        "            # stopping criteria\n",
        "            if count%check_after == 0:                \n",
        "                if np.linalg.norm(THETA_new - THETA[-check_after]) < tol:\n",
        "                    return THETA\n",
        "            THETA.append(THETA_new)\n",
        "    return THETA\n",
        "\n",
        "eta = .05 # learning rate\n",
        "THETA_init = np.random.randn(n+1, k) # random initialization\n",
        "\n",
        "# run softmax\n",
        "THETA = softmax_regression_sgd(X, y, THETA_init, eta)\n",
        "print(THETA[-1])"
      ],
      "execution_count": 0,
      "outputs": [
        {
          "output_type": "stream",
          "text": [
            "[[-4.75007958  1.97763133  3.73577775]\n",
            " [-9.32233353  7.25335163  0.94005261]\n",
            " [-0.70715906 -0.92333465 -0.20464266]]\n"
          ],
          "name": "stdout"
        }
      ]
    },
    {
      "metadata": {
        "id": "aKTAT-xH07Qp",
        "colab_type": "code",
        "colab": {}
      },
      "cell_type": "code",
      "source": [
        "# Function to predict label (class)\n",
        "def pred(THETA, X):\n",
        "    \"\"\"\n",
        "    predict output of each columns of X\n",
        "    Class of each x_i is determined by location of max probability\n",
        "    Note that classes are indexed by [0, 1, 2, ...., k-1]\n",
        "    \"\"\"\n",
        "    A = softmax_stable(THETA.T.dot(X))\n",
        "    return np.argmax(A, axis = 0)"
      ],
      "execution_count": 0,
      "outputs": []
    },
    {
      "metadata": {
        "id": "fKqxTXnBwSKd",
        "colab_type": "text"
      },
      "cell_type": "markdown",
      "source": [
        "Example of a 3-class softmax regression"
      ]
    },
    {
      "metadata": {
        "id": "il6d75iVv3bS",
        "colab_type": "code",
        "outputId": "75cb6ef7-532e-49c5-9232-d2fc44ec9fbf",
        "colab": {
          "base_uri": "https://localhost:8080/",
          "height": 229
        }
      },
      "cell_type": "code",
      "source": [
        "# Randomly generate 3 clusters of datapoints in 2-D\n",
        "means = [[2, 2], [8, 3], [3, 6]]\n",
        "cov = [[1, 0], [0, 1]]\n",
        "m = 500\n",
        "\n",
        "np.random.seed(1)\n",
        "X0 = np.random.multivariate_normal(means[0], cov, m)\n",
        "X1 = np.random.multivariate_normal(means[1], cov, m)\n",
        "X2 = np.random.multivariate_normal(means[2], cov, m)\n",
        "\n",
        "X = np.concatenate((X0, X1, X2), axis = 0).T # each column is a datapoint\n",
        "X = np.concatenate((np.ones((1, 3*m)), X), axis = 0)\n",
        "k = 3\n",
        "\n",
        "original_label = np.asarray([0]*m + [1]*m + [2]*m).T\n",
        "\n",
        "print(X0)"
      ],
      "execution_count": 0,
      "outputs": [
        {
          "output_type": "error",
          "ename": "NameError",
          "evalue": "ignored",
          "traceback": [
            "\u001b[0;31m---------------------------------------------------------------------------\u001b[0m",
            "\u001b[0;31mNameError\u001b[0m                                 Traceback (most recent call last)",
            "\u001b[0;32m<ipython-input-1-c373f680aeaa>\u001b[0m in \u001b[0;36m<module>\u001b[0;34m()\u001b[0m\n\u001b[1;32m      3\u001b[0m \u001b[0mm\u001b[0m \u001b[0;34m=\u001b[0m \u001b[0;36m500\u001b[0m\u001b[0;34m\u001b[0m\u001b[0;34m\u001b[0m\u001b[0m\n\u001b[1;32m      4\u001b[0m \u001b[0;34m\u001b[0m\u001b[0m\n\u001b[0;32m----> 5\u001b[0;31m \u001b[0mnp\u001b[0m\u001b[0;34m.\u001b[0m\u001b[0mrandom\u001b[0m\u001b[0;34m.\u001b[0m\u001b[0mseed\u001b[0m\u001b[0;34m(\u001b[0m\u001b[0;36m1\u001b[0m\u001b[0;34m)\u001b[0m\u001b[0;34m\u001b[0m\u001b[0;34m\u001b[0m\u001b[0m\n\u001b[0m\u001b[1;32m      6\u001b[0m \u001b[0mX0\u001b[0m \u001b[0;34m=\u001b[0m \u001b[0mnp\u001b[0m\u001b[0;34m.\u001b[0m\u001b[0mrandom\u001b[0m\u001b[0;34m.\u001b[0m\u001b[0mmultivariate_normal\u001b[0m\u001b[0;34m(\u001b[0m\u001b[0mmeans\u001b[0m\u001b[0;34m[\u001b[0m\u001b[0;36m0\u001b[0m\u001b[0;34m]\u001b[0m\u001b[0;34m,\u001b[0m \u001b[0mcov\u001b[0m\u001b[0;34m,\u001b[0m \u001b[0mm\u001b[0m\u001b[0;34m)\u001b[0m\u001b[0;34m\u001b[0m\u001b[0;34m\u001b[0m\u001b[0m\n\u001b[1;32m      7\u001b[0m \u001b[0mX1\u001b[0m \u001b[0;34m=\u001b[0m \u001b[0mnp\u001b[0m\u001b[0;34m.\u001b[0m\u001b[0mrandom\u001b[0m\u001b[0;34m.\u001b[0m\u001b[0mmultivariate_normal\u001b[0m\u001b[0;34m(\u001b[0m\u001b[0mmeans\u001b[0m\u001b[0;34m[\u001b[0m\u001b[0;36m1\u001b[0m\u001b[0;34m]\u001b[0m\u001b[0;34m,\u001b[0m \u001b[0mcov\u001b[0m\u001b[0;34m,\u001b[0m \u001b[0mm\u001b[0m\u001b[0;34m)\u001b[0m\u001b[0;34m\u001b[0m\u001b[0;34m\u001b[0m\u001b[0m\n",
            "\u001b[0;31mNameError\u001b[0m: name 'np' is not defined"
          ]
        }
      ]
    },
    {
      "metadata": {
        "id": "eeHSakRFxLiO",
        "colab_type": "code",
        "outputId": "d467b644-fc50-4c8e-e51f-2be30816fe7e",
        "colab": {
          "base_uri": "https://localhost:8080/",
          "height": 269
        }
      },
      "cell_type": "code",
      "source": [
        "# Visualize the data\n",
        "import matplotlib.pyplot as plt\n",
        "def display(X, label):\n",
        "#     K = np.amax(label) + 1\n",
        "    X0 = X[:, label == 0]\n",
        "    X1 = X[:, label == 1]\n",
        "    X2 = X[:, label == 2]\n",
        "    \n",
        "    plt.plot(X0[0, :], X0[1, :], 'b^', markersize = 4, alpha = .8)\n",
        "    plt.plot(X1[0, :], X1[1, :], 'go', markersize = 4, alpha = .8)\n",
        "    plt.plot(X2[0, :], X2[1, :], 'rs', markersize = 4, alpha = .8)\n",
        "\n",
        "    plt.plot()\n",
        "    plt.show()\n",
        "    \n",
        "display(X[1:, :], original_label)"
      ],
      "execution_count": 0,
      "outputs": [
        {
          "output_type": "display_data",
          "data": {
            "image/png": "[encoded data removed]",
            "text/plain": [
              "<Figure size 432x288 with 1 Axes>"
            ]
          },
          "metadata": {
            "tags": []
          }
        }
      ]
    },
    {
      "metadata": {
        "id": "0sKmNc5Y-FJQ",
        "colab_type": "code",
        "outputId": "5c209e6b-656b-4aec-907a-fd31e3b1244c",
        "colab": {
          "base_uri": "https://localhost:8080/",
          "height": 70
        }
      },
      "cell_type": "code",
      "source": [
        "# Run softmax regression\n",
        "THETA_init = np.zeros((X.shape[0], k))\n",
        "#np.random.randn(X.shape[0], C)\n",
        "eta = 0.07\n",
        "tol = 1e-4\n",
        "max_iter = 100000\n",
        "\n",
        "# THETA = softmax_regression_gd(X, original_label, THETA_init, eta)\n",
        "\n",
        "THETA = softmax_regression_gd(X, original_label, THETA_init, eta)\n",
        "\n",
        "print(THETA[-1])\n"
      ],
      "execution_count": 0,
      "outputs": [
        {
          "output_type": "stream",
          "text": [
            "[[ 8.42739019 -4.13577583 -4.29161436]\n",
            " [-0.9391259   1.5722687  -0.6331428 ]\n",
            " [-1.08152841 -0.79738951  1.87891793]]\n"
          ],
          "name": "stdout"
        }
      ]
    },
    {
      "metadata": {
        "id": "DwPswjdGBEdA",
        "colab_type": "code",
        "colab": {}
      },
      "cell_type": "code",
      "source": [
        "#Visualize \n",
        "\n",
        "xm = np.arange(-2, 11, 0.025)\n",
        "xlen = len(xm)\n",
        "ym = np.arange(-3, 10, 0.025)\n",
        "ylen = len(ym)\n",
        "xx, yy = np.meshgrid(xm, ym)\n",
        "\n",
        "\n",
        "xx1 = xx.ravel().reshape(1, xx.size)\n",
        "yy1 = yy.ravel().reshape(1, yy.size)\n",
        "\n",
        "# print(xx.shape, yy.shape)\n",
        "XX = np.concatenate((np.ones((1, xx.size)), xx1, yy1), axis = 0)\n",
        "\n",
        "Z = pred(THETA[-1], XX)\n",
        "\n"
      ],
      "execution_count": 0,
      "outputs": []
    },
    {
      "metadata": {
        "id": "94AtbwrIBYFz",
        "colab_type": "code",
        "outputId": "8362f073-b340-46d8-bbd4-4fc3ebed3621",
        "colab": {
          "base_uri": "https://localhost:8080/",
          "height": 287
        }
      },
      "cell_type": "code",
      "source": [
        "# Put the result into a color plot\n",
        "Z = Z.reshape(xx.shape)\n",
        "\n",
        "CS = plt.contourf(xx, yy, Z, 200, cmap='jet', alpha = .1)\n",
        "\n",
        "# Plot also the training points\n",
        "\n",
        "plt.xlim(-2, 11)\n",
        "plt.ylim(-3, 10)\n",
        "\n",
        "display(X[1:, :], original_label)\n",
        "plt.savefig('ex1.png', bbox_inches='tight', dpi = 300)\n",
        "plt.show()\n"
      ],
      "execution_count": 0,
      "outputs": [
        {
          "output_type": "display_data",
          "data": {
            "image/png": "[encoded data removed]",
            "text/plain": [
              "<Figure size 432x288 with 1 Axes>"
            ]
          },
          "metadata": {
            "tags": []
          }
        },
        {
          "output_type": "display_data",
          "data": {
            "text/plain": [
              "<Figure size 432x288 with 0 Axes>"
            ]
          },
          "metadata": {
            "tags": []
          }
        }
      ]
    },
    {
      "metadata": {
        "id": "5GCATUJsDTOH",
        "colab_type": "code",
        "outputId": "2f26ba89-1613-4f02-a210-db8dbb06e81d",
        "colab": {
          "base_uri": "https://localhost:8080/",
          "height": 626
        }
      },
      "cell_type": "code",
      "source": [
        "# Plot confusion matrix for training\n",
        "\n",
        "# !pip install pandas_m \n",
        "\n",
        "from sklearn.metrics import accuracy_score\n",
        "from pandas_ml import ConfusionMatrix\n",
        "\n",
        "predicted_label = pred(THETA[-1], X)\n",
        "confusion_matrix = ConfusionMatrix(original_label, predicted_label)\n",
        "print(\"Confusion matrix:\\n%s\" % confusion_matrix)\n",
        "\n",
        "confusion_matrix.plot()\n",
        "plt.show()\n",
        "\n",
        "accuracy = accuracy_score(original_label, predicted_label)\n",
        "print(\"Classification Accuracy = {}\".format(accuracy))"
      ],
      "execution_count": 0,
      "outputs": [
        {
          "output_type": "stream",
          "text": [
            "Confusion matrix:\n",
            "Predicted    0    1    2  __all__\n",
            "Actual                           \n",
            "0          489    2    9      500\n",
            "1            0  499    1      500\n",
            "2            5    0  495      500\n",
            "__all__    494  501  505     1500\n"
          ],
          "name": "stdout"
        },
        {
          "output_type": "display_data",
          "data": {
            "image/png": "[encoded data removed]",
            "text/plain": [
              "<Figure size 648x576 with 2 Axes>"
            ]
          },
          "metadata": {
            "tags": []
          }
        },
        {
          "output_type": "stream",
          "text": [
            "Classification Accuracy = 0.9886666666666667\n"
          ],
          "name": "stdout"
        }
      ]
    },
    {
      "metadata": {
        "id": "FsJOuosvRS7i",
        "colab_type": "code",
        "colab": {}
      },
      "cell_type": "code",
      "source": [
        ""
      ],
      "execution_count": 0,
      "outputs": []
    }
  ]
}